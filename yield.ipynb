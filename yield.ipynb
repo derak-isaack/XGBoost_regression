{
 "cells": [
  {
   "cell_type": "code",
   "execution_count": 33,
   "metadata": {},
   "outputs": [
    {
     "name": "stdout",
     "output_type": "stream",
     "text": [
      "{'learning_rate': 0.015, 'max_depth': 6, 'n_estimators': 300}\n",
      "RMSLE: 1.126063808788577\n",
      "MAPE: 2.0482498275356886\n"
     ]
    },
    {
     "ename": "AttributeError",
     "evalue": "'XGBRegressor' object has no attribute 'accuracy_score'",
     "output_type": "error",
     "traceback": [
      "\u001b[1;31m---------------------------------------------------------------------------\u001b[0m",
      "\u001b[1;31mAttributeError\u001b[0m                            Traceback (most recent call last)",
      "Cell \u001b[1;32mIn[33], line 58\u001b[0m\n\u001b[0;32m     54\u001b[0m MAPE \u001b[39m=\u001b[39m mean_absolute_percentage_error(y_test, prediction)\n\u001b[0;32m     56\u001b[0m \u001b[39mprint\u001b[39m(\u001b[39m'\u001b[39m\u001b[39mMAPE:\u001b[39m\u001b[39m'\u001b[39m, MAPE)\n\u001b[1;32m---> 58\u001b[0m regressor\u001b[39m.\u001b[39;49maccuracy_score(X_test, y_test)\n\u001b[0;32m     60\u001b[0m xgb\u001b[39m.\u001b[39mplot_importance(regressor)\n\u001b[0;32m     62\u001b[0m \u001b[39m#plot_importance(regressor,max_num_features=5, ax=ax)\u001b[39;00m\n",
      "\u001b[1;31mAttributeError\u001b[0m: 'XGBRegressor' object has no attribute 'accuracy_score'"
     ]
    }
   ],
   "source": [
    "import pandas as pd  \n",
    "import xgboost as xgb  \n",
    "from sklearn.model_selection import train_test_split\n",
    "import matplotlib.pyplot as plt \n",
    "import numpy as np  \n",
    "from xgboost import XGBRegressor , plot_importance\n",
    "from sklearn.model_selection import GridSearchCV\n",
    "from sklearn.metrics import accuracy_score\n",
    "from sklearn.metrics import mean_squared_log_error, mean_absolute_percentage_error\n",
    "\n",
    "\n",
    "df = pd.read_csv('yield_df.csv')\n",
    "df.head()\n",
    "\n",
    "df.dropna()\n",
    "\n",
    "df=df.drop(['Area', \"Item\"],axis=1)\n",
    "\n",
    "x = df.drop('hg/ha_yield', axis=1)\n",
    "y = df['hg/ha_yield']\n",
    "\n",
    "X_train, X_test, y_train, y_test = train_test_split(x, y, random_state=0, test_size=0.3)\n",
    "\n",
    "X_train.head(),X_test.head()\n",
    "\n",
    "regressor=xgb.XGBRegressor(eval_metric='rmsle')\n",
    "\n",
    "param_grid = [{\n",
    "    \"max_depth\": [4,5,6],\n",
    "    \"n_estimators\": [100,200,300],\n",
    "    \"learning_rate\": [0.01, 0.015]\n",
    "}]\n",
    "\n",
    "search = GridSearchCV(regressor, param_grid, cv=5)\n",
    "search.fit(X_train, y_train)\n",
    "\n",
    "print(search.best_params_)\n",
    "\n",
    "regressor=xgb.XGBRegressor(\n",
    "    learning_rate= search.best_params_[\"learning_rate\"],\n",
    "    max_depth= search.best_params_[\"max_depth\"],\n",
    "    n_estimators= search.best_params_[\"n_estimators\"],\n",
    "    eval_metric= 'rmsle'\n",
    ")\n",
    "\n",
    "regressor.fit(X_train, y_train)\n",
    "\n",
    "prediction = regressor.predict(X_test)\n",
    "\n",
    "RMSLE = np.sqrt(mean_squared_log_error(y_test,prediction))\n",
    "\n",
    "print('RMSLE:', RMSLE)\n",
    "\n",
    "MAPE = mean_absolute_percentage_error(y_test, prediction)\n",
    "\n",
    "print('MAPE:', MAPE)\n",
    "\n",
    "regressor.score(X_test, y_test)\n",
    "\n",
    "xgb.plot_importance(regressor)\n",
    "\n",
    "#plot_importance(regressor,max_num_features=5, ax=ax)\n",
    "plt.show()\n",
    "\n"
   ]
  }
 ],
 "metadata": {
  "kernelspec": {
   "display_name": "crop_env",
   "language": "python",
   "name": "python3"
  },
  "language_info": {
   "codemirror_mode": {
    "name": "ipython",
    "version": 3
   },
   "file_extension": ".py",
   "mimetype": "text/x-python",
   "name": "python",
   "nbconvert_exporter": "python",
   "pygments_lexer": "ipython3",
   "version": "3.11.3"
  },
  "orig_nbformat": 4
 },
 "nbformat": 4,
 "nbformat_minor": 2
}
